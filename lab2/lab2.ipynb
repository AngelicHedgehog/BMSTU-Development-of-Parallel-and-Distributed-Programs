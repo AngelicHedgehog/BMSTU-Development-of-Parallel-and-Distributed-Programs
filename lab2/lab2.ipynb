{
 "cells": [
  {
   "cell_type": "code",
   "execution_count": 1,
   "metadata": {},
   "outputs": [],
   "source": [
    "import os\n",
    "import sys\n",
    "import matplotlib\n",
    "# matplotlib.use('Agg')\n",
    "import matplotlib.pyplot as plt"
   ]
  },
  {
   "cell_type": "code",
   "execution_count": 2,
   "metadata": {},
   "outputs": [
    {
     "name": "stdout",
     "output_type": "stream",
     "text": [
      "C:\\Program Files\\Microsoft MPI\\Bin\n"
     ]
    }
   ],
   "source": [
    "%cd \"C:/Program Files/Microsoft MPI/Bin\""
   ]
  },
  {
   "cell_type": "code",
   "execution_count": 4,
   "metadata": {},
   "outputs": [
    {
     "name": "stdout",
     "output_type": "stream",
     "text": [
      "CPU times: total: 0 ns\n",
      "Wall time: 33.2 s\n"
     ]
    },
    {
     "data": {
      "text/plain": [
       "0"
      ]
     },
     "execution_count": 4,
     "metadata": {},
     "output_type": "execute_result"
    }
   ],
   "source": [
    "%%time\n",
    "os.system(f\"mpiexec -np 1 python C:/Desktop/bmnk/Semester-5/Development-of-Parallel-and-Distributed-Programs/lab2/sle_solver_var1.py\")"
   ]
  },
  {
   "cell_type": "code",
   "execution_count": 6,
   "metadata": {},
   "outputs": [
    {
     "name": "stdout",
     "output_type": "stream",
     "text": [
      "CPU times: total: 15.6 ms\n",
      "Wall time: 32.9 s\n"
     ]
    },
    {
     "data": {
      "text/plain": [
       "0"
      ]
     },
     "execution_count": 6,
     "metadata": {},
     "output_type": "execute_result"
    }
   ],
   "source": [
    "%%time\n",
    "os.system(f\"mpiexec -np 2 python C:/Desktop/bmnk/Semester-5/Development-of-Parallel-and-Distributed-Programs/lab2/sle_solver_var1.py\")"
   ]
  },
  {
   "cell_type": "code",
   "execution_count": 7,
   "metadata": {},
   "outputs": [],
   "source": [
    "%%time\n",
    "os.system(f\"mpiexec -np 4 python C:/Desktop/bmnk/Semester-5/Development-of-Parallel-and-Distributed-Programs/lab2/sle_solver_var1.py\")"
   ]
  },
  {
   "cell_type": "code",
   "execution_count": null,
   "metadata": {},
   "outputs": [],
   "source": [
    "%%time\n",
    "os.system(f\"mpiexec -np 8 python C:/Desktop/bmnk/Semester-5/Development-of-Parallel-and-Distributed-Programs/lab2/sle_solver_var1.py\")"
   ]
  },
  {
   "cell_type": "code",
   "execution_count": null,
   "metadata": {},
   "outputs": [],
   "source": [
    "%%time\n",
    "os.system(f\"mpiexec -np 16 python C:/Desktop/bmnk/Semester-5/Development-of-Parallel-and-Distributed-Programs/lab2/sle_solver_var1.py\")"
   ]
  },
  {
   "cell_type": "code",
   "execution_count": 7,
   "metadata": {},
   "outputs": [
    {
     "name": "stderr",
     "output_type": "stream",
     "text": [
      "C:\\Users\\angel\\AppData\\Local\\Temp\\ipykernel_3744\\931813779.py:6: UserWarning: FigureCanvasAgg is non-interactive, and thus cannot be shown\n",
      "  plt.show()\n"
     ]
    }
   ],
   "source": [
    "plt.plot((.5, .5, 3, 12, 53), (1, 2, 5, 9, 17))\n",
    "\n",
    "plt.xlabel(\"время, мин.\")\n",
    "plt.ylabel(\"ядеа, шт.\")\n",
    "\n",
    "plt.show()"
   ]
  },
  {
   "cell_type": "code",
   "execution_count": 6,
   "metadata": {},
   "outputs": [
    {
     "name": "stderr",
     "output_type": "stream",
     "text": [
      "C:\\Users\\angel\\AppData\\Local\\Temp\\ipykernel_3744\\3616955292.py:17: UserWarning: FigureCanvasAgg is non-interactive, and thus cannot be shown\n",
      "  plt.show()\n"
     ]
    }
   ],
   "source": [
    "#Three lines to make our compiler able to draw:\n",
    "import sys\n",
    "import matplotlib\n",
    "matplotlib.use('Agg')\n",
    "\n",
    "import numpy as np\n",
    "import matplotlib.pyplot as plt\n",
    "\n",
    "x = np.array([80, 85, 90, 95, 100, 105, 110, 115, 120, 125])\n",
    "y = np.array([240, 250, 260, 270, 280, 290, 300, 310, 320, 330])\n",
    "\n",
    "plt.plot(x, y)\n",
    "\n",
    "plt.xlabel(\"Average Pulse\")\n",
    "plt.ylabel(\"Calorie Burnage\")\n",
    "\n",
    "plt.show() \n",
    "\n"
   ]
  }
 ],
 "metadata": {
  "kernelspec": {
   "display_name": "Python 3",
   "language": "python",
   "name": "python3"
  },
  "language_info": {
   "codemirror_mode": {
    "name": "ipython",
    "version": 3
   },
   "file_extension": ".py",
   "mimetype": "text/x-python",
   "name": "python",
   "nbconvert_exporter": "python",
   "pygments_lexer": "ipython3",
   "version": "3.11.1"
  }
 },
 "nbformat": 4,
 "nbformat_minor": 2
}
